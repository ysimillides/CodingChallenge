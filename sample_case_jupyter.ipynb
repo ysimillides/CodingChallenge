{
 "cells": [
  {
   "cell_type": "code",
   "execution_count": 1,
   "metadata": {
    "collapsed": true
   },
   "outputs": [],
   "source": [
    "import sys\n",
    "sys.path.extend(['/home/yiannis/PycharmProjects/Tdbempp'])\n",
    "import MAN_AHL_Coding.next_num as man_ahl\n",
    "import collections"
   ]
  },
  {
   "cell_type": "markdown",
   "metadata": {},
   "source": [
    "The above commands provide the class directory location"
   ]
  },
  {
   "cell_type": "code",
   "execution_count": 2,
   "metadata": {},
   "outputs": [],
   "source": [
    "test_nums = [-1, 0, 1, 2, 3] \n",
    "test_probabilities = [0.01, 0.3, 0.58, 0.1, 0.01]"
   ]
  },
  {
   "cell_type": "code",
   "execution_count": 3,
   "metadata": {},
   "outputs": [],
   "source": [
    "instance = man_ahl.RandomGen(test_nums, test_probabilities)\n",
    "numbers = []\n",
    "for i in range(1001):\n",
    "    numbers.append(instance.next_num())"
   ]
  },
  {
   "cell_type": "code",
   "execution_count": 4,
   "metadata": {},
   "outputs": [
    {
     "name": "stdout",
     "output_type": "stream",
     "text": [
      "-1 : 3\n0 : 305\n1 : 607\n2 : 79\n3 : 7\n"
     ]
    }
   ],
   "source": [
    "count = collections.Counter(numbers)\n",
    "for value in test_nums:\n",
    "    print ('%s : %d' % (value, count[value]))"
   ]
  },
  {
   "cell_type": "code",
   "execution_count": null,
   "metadata": {},
   "outputs": [],
   "source": [
    ""
   ]
  }
 ],
 "metadata": {
  "kernelspec": {
   "display_name": "Python 2",
   "language": "python",
   "name": "python2"
  },
  "language_info": {
   "codemirror_mode": {
    "name": "ipython",
    "version": 2.0
   },
   "file_extension": ".py",
   "mimetype": "text/x-python",
   "name": "python",
   "nbconvert_exporter": "python",
   "pygments_lexer": "ipython2",
   "version": "2.7.6"
  }
 },
 "nbformat": 4,
 "nbformat_minor": 0
}